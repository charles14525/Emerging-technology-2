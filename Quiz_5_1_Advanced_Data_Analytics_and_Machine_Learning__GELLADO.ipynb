{
  "nbformat": 4,
  "nbformat_minor": 0,
  "metadata": {
    "colab": {
      "provenance": [],
      "authorship_tag": "ABX9TyPoKuUHwdOLQxakTbyYqxqw",
      "include_colab_link": true
    },
    "kernelspec": {
      "name": "python3",
      "display_name": "Python 3"
    },
    "language_info": {
      "name": "python"
    }
  },
  "cells": [
    {
      "cell_type": "markdown",
      "metadata": {
        "id": "view-in-github",
        "colab_type": "text"
      },
      "source": [
        "<a href=\"https://colab.research.google.com/github/charles14525/Emerging-technology-2/blob/main/Quiz_5_1_Advanced_Data_Analytics_and_Machine_Learning__GELLADO.ipynb\" target=\"_parent\"><img src=\"https://colab.research.google.com/assets/colab-badge.svg\" alt=\"Open In Colab\"/></a>"
      ]
    },
    {
      "cell_type": "code",
      "execution_count": 3,
      "metadata": {
        "id": "ay2eDWzNao2l"
      },
      "outputs": [],
      "source": [
        "import numpy as np\n",
        "import pandas as pd\n",
        "\n",
        "exam_data = {'name': ['Anastasia', 'Dima', 'Katherine', 'James', 'Emily', 'Michael', 'Matthew', 'Laura', 'Kevin', 'Jonas'],\n",
        "'score': [12.5, 9, 16.5, np.nan, 9, 20, 14.5, np.nan, 8, 19],\n",
        "'attempts': [1, 3, 2, 3, 2, 3, 1, 1, 2, 1],\n",
        "'qualify': ['yes', 'no', 'yes', 'no', 'no', 'yes', 'yes', 'no', 'no', 'yes']}\n",
        "labels = ['a', 'b', 'c', 'd', 'e', 'f', 'g', 'h', 'i', 'j']\n"
      ]
    },
    {
      "cell_type": "code",
      "source": [
        "df = pd.DataFrame(exam_data, index=labels)\n",
        "\n",
        "\n",
        "n_rows = df.shape[0]\n",
        "n_columns = df.shape[1]\n",
        "\n",
        "\n",
        "print(\"Number of Rows: \", n_rows)\n",
        "print(\"Number of Columns: \", n_columns)"
      ],
      "metadata": {
        "colab": {
          "base_uri": "https://localhost:8080/"
        },
        "id": "PJKmpFSibHIf",
        "outputId": "003ea99c-7470-4efc-a799-b8739c51e6ea"
      },
      "execution_count": 5,
      "outputs": [
        {
          "output_type": "stream",
          "name": "stdout",
          "text": [
            "Number of Rows:  10\n",
            "Number of Columns:  4\n"
          ]
        }
      ]
    },
    {
      "cell_type": "markdown",
      "source": [
        "first line of the code the df is the declaration of df as dataframe and puts the exam_data and index = labels inside the dataframe as pandas dataframe.\n",
        "on the next line of codes n_rows is declared as the dataframe shape has the value of [0] and n_columns is declared as the dataframe shape has the value of [1]. on the last part of the code the number of rows is counted and printed and the number of columns is counted and printed"
      ],
      "metadata": {
        "id": "ryvziidncsp2"
      }
    }
  ]
}