{
  "nbformat": 4,
  "nbformat_minor": 0,
  "metadata": {
    "colab": {
      "provenance": [],
      "authorship_tag": "ABX9TyOsvBhSxlUzcC7WOHEhT5QA",
      "include_colab_link": true
    },
    "kernelspec": {
      "name": "python3",
      "display_name": "Python 3"
    },
    "language_info": {
      "name": "python"
    }
  },
  "cells": [
    {
      "cell_type": "markdown",
      "metadata": {
        "id": "view-in-github",
        "colab_type": "text"
      },
      "source": [
        "<a href=\"https://colab.research.google.com/github/charles14525/Emerging-technology-2/blob/main/Prelim_Examination.ipynb\" target=\"_parent\"><img src=\"https://colab.research.google.com/assets/colab-badge.svg\" alt=\"Open In Colab\"/></a>"
      ]
    },
    {
      "cell_type": "markdown",
      "source": [
        "**Name:** Charles Josef B. Gellado\n",
        "\n",
        "**Course and Section:** CPE019 - CPE32S4\n",
        "\n",
        "**Date of submission:** 02/26/2025\n",
        "\n",
        "**Instructor:** Dr. Richard Monreal"
      ],
      "metadata": {
        "id": "f_8eYsG2ayME"
      }
    },
    {
      "cell_type": "code",
      "source": [
        "!pip install kagglehub"
      ],
      "metadata": {
        "colab": {
          "base_uri": "https://localhost:8080/"
        },
        "id": "zkNGX-vFa72T",
        "outputId": "00e06e68-6d8a-42c0-9e8d-014c7110a68a"
      },
      "execution_count": 8,
      "outputs": [
        {
          "output_type": "stream",
          "name": "stdout",
          "text": [
            "Requirement already satisfied: kagglehub in /usr/local/lib/python3.11/dist-packages (0.3.9)\n",
            "Requirement already satisfied: packaging in /usr/local/lib/python3.11/dist-packages (from kagglehub) (24.2)\n",
            "Requirement already satisfied: pyyaml in /usr/local/lib/python3.11/dist-packages (from kagglehub) (6.0.2)\n",
            "Requirement already satisfied: requests in /usr/local/lib/python3.11/dist-packages (from kagglehub) (2.32.3)\n",
            "Requirement already satisfied: tqdm in /usr/local/lib/python3.11/dist-packages (from kagglehub) (4.67.1)\n",
            "Requirement already satisfied: charset-normalizer<4,>=2 in /usr/local/lib/python3.11/dist-packages (from requests->kagglehub) (3.4.1)\n",
            "Requirement already satisfied: idna<4,>=2.5 in /usr/local/lib/python3.11/dist-packages (from requests->kagglehub) (3.10)\n",
            "Requirement already satisfied: urllib3<3,>=1.21.1 in /usr/local/lib/python3.11/dist-packages (from requests->kagglehub) (2.3.0)\n",
            "Requirement already satisfied: certifi>=2017.4.17 in /usr/local/lib/python3.11/dist-packages (from requests->kagglehub) (2025.1.31)\n"
          ]
        }
      ]
    },
    {
      "cell_type": "code",
      "execution_count": 9,
      "metadata": {
        "colab": {
          "base_uri": "https://localhost:8080/"
        },
        "id": "-1f5NfAcZyEv",
        "outputId": "14752291-6f92-4a56-a9d9-458dfb05cb53"
      },
      "outputs": [
        {
          "output_type": "stream",
          "name": "stdout",
          "text": [
            "Warning: Looks like you're using an outdated `kagglehub` version (installed: 0.3.9), please consider upgrading to the latest version (0.3.10).\n",
            "Path to dataset files: /root/.cache/kagglehub/datasets/doaaalsenani/usa-cers-dataset/versions/1\n"
          ]
        }
      ],
      "source": [
        "import kagglehub\n",
        "\n",
        "path = kagglehub.dataset_download(\"doaaalsenani/usa-cers-dataset\")\n",
        "\n",
        "print(\"Path to dataset files:\", path)"
      ]
    },
    {
      "cell_type": "code",
      "source": [
        "import pandas as pd\n",
        "from sklearn.model_selection import train_test_split\n",
        "from sklearn.preprocessing import StandardScaler, LabelEncoder\n",
        "\n",
        "\n",
        "df = pd.read_csv('/content/USA_cars_datasets.csv')\n",
        "\n",
        "\n",
        "df = df.drop(['vin', 'lot'], axis=1)\n",
        "\n",
        "\n",
        "categorical_features = ['brand', 'model', 'title_status', 'color', 'state', 'country', 'condition']\n",
        "for feature in categorical_features:\n",
        "    le = LabelEncoder()\n",
        "    df[feature] = le.fit_transform(df[feature])\n",
        "\n",
        "\n",
        "X = df.drop(['price'], axis=1)\n",
        "y = df['price']\n",
        "\n",
        "\n",
        "X_train, X_test, y_train, y_test = train_test_split(X, y, test_size=0.2, random_state=42)\n",
        "\n",
        "\n",
        "scaler = StandardScaler()\n",
        "X_train = scaler.fit_transform(X_train)\n",
        "X_test = scaler.transform(X_test)"
      ],
      "metadata": {
        "id": "t5Yxbs-Xc2N8"
      },
      "execution_count": 11,
      "outputs": []
    },
    {
      "cell_type": "code",
      "source": [
        "from sklearn.linear_model import LinearRegression\n",
        "from sklearn.metrics import mean_squared_error, r2_score\n",
        "\n",
        "\n",
        "X_train_single = X_train[:, df.columns.get_loc('mileage')].reshape(-1, 1)\n",
        "X_test_single = X_test[:, df.columns.get_loc('mileage')].reshape(-1, 1)\n",
        "single_lr = LinearRegression()\n",
        "single_lr.fit(X_train_single, y_train)\n",
        "y_pred_single = single_lr.predict(X_test_single)\n",
        "\n",
        "\n",
        "multiple_lr = LinearRegression()\n",
        "multiple_lr.fit(X_train, y_train)\n",
        "y_pred_multiple = multiple_lr.predict(X_test)\n",
        "\n",
        "\n",
        "from sklearn.preprocessing import PolynomialFeatures\n",
        "poly = PolynomialFeatures(degree=2)\n",
        "X_train_poly = poly.fit_transform(X_train)\n",
        "X_test_poly = poly.transform(X_test)\n",
        "poly_lr = LinearRegression()\n",
        "poly_lr.fit(X_train_poly, y_train)\n",
        "y_pred_poly = poly_lr.predict(X_test_poly)\n",
        "\n",
        "\n",
        "print(\"Singular LR - MSE:\", mean_squared_error(y_test, y_pred_single))\n",
        "print(\"Singular LR - R2:\", r2_score(y_test, y_pred_single))"
      ],
      "metadata": {
        "colab": {
          "base_uri": "https://localhost:8080/"
        },
        "id": "TFEPHMDdg_Fd",
        "outputId": "448db709-fe98-4744-a87a-71884b7a3c56"
      },
      "execution_count": 15,
      "outputs": [
        {
          "output_type": "stream",
          "name": "stdout",
          "text": [
            "Singular LR - MSE: 159291827.49672958\n",
            "Singular LR - R2: -0.005039967909433729\n"
          ]
        }
      ]
    },
    {
      "cell_type": "code",
      "source": [
        "print(\"Multiple LR - MSE:\", mean_squared_error(y_test, y_pred_multiple))\n",
        "print(\"Multiple LR - R2:\", r2_score(y_test, y_pred_multiple))"
      ],
      "metadata": {
        "colab": {
          "base_uri": "https://localhost:8080/"
        },
        "id": "brvGn0daosun",
        "outputId": "2b1f10a7-5402-40e6-9230-695732e4c277"
      },
      "execution_count": 14,
      "outputs": [
        {
          "output_type": "stream",
          "name": "stdout",
          "text": [
            "Multiple LR - MSE: 106034774.04788879\n",
            "Multiple LR - R2: 0.3309814597452455\n"
          ]
        }
      ]
    },
    {
      "cell_type": "code",
      "source": [
        "print(\"Polynomial LR - MSE:\", mean_squared_error(y_test, y_pred_poly))\n",
        "print(\"Polynomial LR - R2:\", r2_score(y_test, y_pred_poly))"
      ],
      "metadata": {
        "colab": {
          "base_uri": "https://localhost:8080/"
        },
        "id": "6H8960Jhovdv",
        "outputId": "4bebb926-676a-428e-e257-0a078fc796fa"
      },
      "execution_count": 16,
      "outputs": [
        {
          "output_type": "stream",
          "name": "stdout",
          "text": [
            "Polynomial LR - MSE: 92929785.17560135\n",
            "Polynomial LR - R2: 0.4136664147905861\n"
          ]
        }
      ]
    },
    {
      "cell_type": "code",
      "source": [
        "from sklearn.linear_model import LogisticRegression\n",
        "from sklearn.metrics import accuracy_score, classification_report\n",
        "\n",
        "\n",
        "y_train_cat = df['condition'][y_train.index]\n",
        "y_test_cat = df['condition'][y_test.index]\n",
        "\n",
        "logreg = LogisticRegression()\n",
        "logreg.fit(X_train, y_train_cat)\n",
        "y_pred_cat = logreg.predict(X_test)\n",
        "\n",
        "print(\"Logistic Regression - Accuracy:\", accuracy_score(y_test_cat, y_pred_cat))\n",
        "print(\"Logistic Regression - Classification Report:\\n\", classification_report(y_test_cat, y_pred_cat))"
      ],
      "metadata": {
        "colab": {
          "base_uri": "https://localhost:8080/"
        },
        "id": "Aks7hR_Rd5zQ",
        "outputId": "9099ed94-8c12-43f3-85a8-33a3b0c021e2"
      },
      "execution_count": 13,
      "outputs": [
        {
          "output_type": "stream",
          "name": "stdout",
          "text": [
            "Logistic Regression - Accuracy: 0.67\n",
            "Logistic Regression - Classification Report:\n",
            "               precision    recall  f1-score   support\n",
            "\n",
            "           0       0.71      0.75      0.73        16\n",
            "           1       0.00      0.00      0.00         1\n",
            "           2       1.00      1.00      1.00         1\n",
            "           3       0.50      0.40      0.44         5\n",
            "           4       0.93      0.64      0.76        22\n",
            "           5       0.00      0.00      0.00         1\n",
            "           8       0.65      0.65      0.65        20\n",
            "           9       0.00      0.00      0.00         2\n",
            "          10       0.00      0.00      0.00         3\n",
            "          11       0.00      0.00      0.00         7\n",
            "          13       0.45      0.38      0.42        13\n",
            "          14       0.00      0.00      0.00         9\n",
            "          15       0.00      0.00      0.00         9\n",
            "          16       0.67      0.98      0.79       163\n",
            "          17       0.00      0.00      0.00        10\n",
            "          18       0.42      0.50      0.45        10\n",
            "          19       0.74      0.69      0.72        98\n",
            "          20       0.17      0.12      0.14         8\n",
            "          21       0.00      0.00      0.00         2\n",
            "          22       0.00      0.00      0.00         1\n",
            "          25       0.00      0.00      0.00         5\n",
            "          26       0.83      0.60      0.70        40\n",
            "          30       0.00      0.00      0.00         1\n",
            "          31       0.00      0.00      0.00         1\n",
            "          32       0.00      0.00      0.00         3\n",
            "          35       0.00      0.00      0.00         1\n",
            "          37       0.00      0.00      0.00         4\n",
            "          38       0.00      0.00      0.00         1\n",
            "          39       0.43      0.33      0.38         9\n",
            "          41       0.71      0.83      0.77         6\n",
            "          43       0.60      1.00      0.75        15\n",
            "          44       0.78      0.78      0.78         9\n",
            "          45       0.00      0.00      0.00         1\n",
            "          46       0.00      0.00      0.00         3\n",
            "\n",
            "    accuracy                           0.67       500\n",
            "   macro avg       0.28      0.28      0.28       500\n",
            "weighted avg       0.60      0.67      0.62       500\n",
            "\n"
          ]
        },
        {
          "output_type": "stream",
          "name": "stderr",
          "text": [
            "/usr/local/lib/python3.11/dist-packages/sklearn/metrics/_classification.py:1565: UndefinedMetricWarning: Precision is ill-defined and being set to 0.0 in labels with no predicted samples. Use `zero_division` parameter to control this behavior.\n",
            "  _warn_prf(average, modifier, f\"{metric.capitalize()} is\", len(result))\n",
            "/usr/local/lib/python3.11/dist-packages/sklearn/metrics/_classification.py:1565: UndefinedMetricWarning: Precision is ill-defined and being set to 0.0 in labels with no predicted samples. Use `zero_division` parameter to control this behavior.\n",
            "  _warn_prf(average, modifier, f\"{metric.capitalize()} is\", len(result))\n",
            "/usr/local/lib/python3.11/dist-packages/sklearn/metrics/_classification.py:1565: UndefinedMetricWarning: Precision is ill-defined and being set to 0.0 in labels with no predicted samples. Use `zero_division` parameter to control this behavior.\n",
            "  _warn_prf(average, modifier, f\"{metric.capitalize()} is\", len(result))\n"
          ]
        }
      ]
    }
  ]
}